{
 "cells": [
  {
   "cell_type": "code",
   "execution_count": 55,
   "id": "4e08570a-76ff-4f9b-80db-5164f06d017a",
   "metadata": {
    "tags": []
   },
   "outputs": [],
   "source": [
    "import os\n",
    "import json\n",
    "import pandas as pd\n",
    "\n",
    "p_to_c = ['조선일보', '한겨레']\n",
    "\n",
    "DIR_DATASET = \"C:/Users/0stix/Datasets/\"\n",
    "NAME_PROJECT = \"2205-KDT-project\"\n",
    "\n",
    "with open(DIR_DATASET + NAME_PROJECT + '/NIRW210000001.json', 'r', encoding='utf-8') as j_:\n",
    "    json_temp = json.load(j_)\n",
    "\n",
    "lst_attrib = ['id'] + list(json_temp['document'][0]['metadata'].keys())\n",
    "lst_attrib.append('paragraph_id')\n",
    "lst_attrib.append('paragraph_form')\n",
    "\n",
    "lst_file_json = os.listdir(DIR_DATASET + NAME_PROJECT)\n",
    "for file_json in lst_file_json:    \n",
    "    with open(DIR_DATASET + NAME_PROJECT + '/' + file_json, 'r', encoding='utf-8') as j_:\n",
    "        json_temp = json.load(j_)\n",
    "        \n",
    "    id_json = json_temp['id']\n",
    "    \n",
    "    dct_ = {attrib_:[] for attrib_ in lst_attrib}\n",
    "    for each_document in json_temp['document']:\n",
    "        if each_document['metadata']['publisher'] in p_to_c:\n",
    "\n",
    "            dct_metadata = each_document['metadata'].items()\n",
    "                \n",
    "            for each_paragraph in each_document['paragraph']:\n",
    "                dct_['id'].append(each_document['id'])\n",
    "                \n",
    "                for key_, value_ in dct_metadata:\n",
    "                    dct_[key_].append(value_)\n",
    "                    \n",
    "                dct_['paragraph_id'].append(each_paragraph['id'])\n",
    "                dct_['paragraph_form'].append(each_paragraph['form'])\n",
    "    \n",
    "    df_temp = pd.DataFrame()\n",
    "    for key_, value_ in dct_.items():\n",
    "        df_temp[key_] = value_\n",
    "    \n",
    "    df_temp.to_csv(DIR_DATASET + NAME_PROJECT + '/' + id_json + '.csv', encoding='utf-8-sig')"
   ]
  }
 ],
 "metadata": {
  "kernelspec": {
   "display_name": "Python 3 (ipykernel)",
   "language": "python",
   "name": "python3"
  },
  "language_info": {
   "codemirror_mode": {
    "name": "ipython",
    "version": 3
   },
   "file_extension": ".py",
   "mimetype": "text/x-python",
   "name": "python",
   "nbconvert_exporter": "python",
   "pygments_lexer": "ipython3",
   "version": "3.8.10"
  },
  "widgets": {
   "application/vnd.jupyter.widget-state+json": {
    "state": {},
    "version_major": 2,
    "version_minor": 0
   }
  }
 },
 "nbformat": 4,
 "nbformat_minor": 5
}
